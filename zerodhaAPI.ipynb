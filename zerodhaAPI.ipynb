{
 "cells": [
  {
   "cell_type": "code",
   "execution_count": null,
   "id": "6f6122be-b843-4147-b43d-c5f8c16f22a6",
   "metadata": {},
   "outputs": [],
   "source": [
    "# zerodha login password \n",
    "KITE_USERNAME = ''\n",
    "KITE_PASSWORD = ''\n",
    "TOTP_KEY      =''"
   ]
  },
  {
   "cell_type": "code",
   "execution_count": null,
   "id": "4c2f40ec-6475-47cc-b607-02d53fb8156d",
   "metadata": {},
   "outputs": [],
   "source": [
    "import pyotp,requests\n",
    "session = requests.Session()\n",
    "\n",
    "res1 = session.post('https://kite.zerodha.com/api/login', data={\"user_id\": KITE_USERNAME, \"password\": KITE_PASSWORD ,\"type\" :\"user_id\"})\n",
    "loginRes = res1.json()  \n",
    "loginRes\n"
   ]
  },
  {
   "cell_type": "code",
   "execution_count": null,
   "id": "c10938e1-21fa-4d64-8542-a4ee66977713",
   "metadata": {},
   "outputs": [],
   "source": [
    "finalRes = session.post('https://kite.zerodha.com/api/twofa', data={\"request_id\": loginRes['data']['request_id'],\n",
    "    \"twofa_value\": pyotp.TOTP(TOTP_KEY).now(),\n",
    "    \"user_id\": loginRes['data']['user_id'],\n",
    "    \"twofa_type\":\"totp\"                                                                 \n",
    "})\n",
    "finalRes.json()"
   ]
  },
  {
   "cell_type": "code",
   "execution_count": null,
   "id": "73c173af-40dd-4696-b93f-cbf4a98f8193",
   "metadata": {},
   "outputs": [],
   "source": [
    "cookiesDict = session.cookies.get_dict()\n",
    "cookiesDict"
   ]
  },
  {
   "cell_type": "code",
   "execution_count": null,
   "id": "dcc7fc3d-c2a2-4b85-8f0a-efcc15017da9",
   "metadata": {},
   "outputs": [],
   "source": [
    "enctoken = cookiesDict['enctoken']\n",
    "enctoken"
   ]
  },
  {
   "cell_type": "code",
   "execution_count": null,
   "id": "89e49065-3fad-4cb1-b80c-2a79c510a95b",
   "metadata": {},
   "outputs": [],
   "source": []
  },
  {
   "cell_type": "code",
   "execution_count": null,
   "id": "3430290d-cd6a-4117-b589-8f28d4859a72",
   "metadata": {},
   "outputs": [],
   "source": [
    "import requests\n",
    "url = 'https://kite.zerodha.com/oms/orders/regular'\n",
    "\n",
    "headers = {\n",
    "        \"User-Agent\": \"Mozilla/5.0 (Windows NT 10.0; Win64; x64) AppleWebKit/537.36 (KHTML, like Gecko) Chrome/58.0.3029.110 Safari/537.36\",\n",
    "        \"Referer\": \"https://kite.zerodha.com/dashboard\",\n",
    "        \"Accept-Language\": \"en-US,en;q=0.6\",\n",
    "        \"Content-type\": \"application/x-www-form-urlencoded\",\n",
    "        \"Accept\": \"application/json, text/plain, */*\",\n",
    "        'Authorization': f\"enctoken {enctoken}\"\n",
    "}\n",
    "\n",
    "order_data = {\n",
    "    \"variety\": \"regular\",\n",
    "    \"exchange\": \"NSE\",\n",
    "    \"tradingsymbol\": \"IEX\",\n",
    "    \"transaction_type\": \"BUY\",\n",
    "    \"order_type\": \"LIMIT\",\n",
    "    \"quantity\": 1,\n",
    "    \"price\": 221,\n",
    "    \"product\": \"CNC\",\n",
    "    \"validity\": \"DAY\",\n",
    "    \"disclosed_quantity\": 0,\n",
    "    \"trigger_price\": 0,\n",
    "    \"squareoff\": 0,\n",
    "    \"stoploss\": 0,\n",
    "    \"trailing_stoploss\": 0,\n",
    "    \"user_id\": KITE_USERNAME\n",
    "}\n",
    "\n",
    "orderes = requests.post(url,headers= headers,data =order_data)\n",
    "orderes.json()"
   ]
  },
  {
   "cell_type": "code",
   "execution_count": null,
   "id": "c4159423-010f-4655-bbb7-cbfab79fa166",
   "metadata": {},
   "outputs": [],
   "source": []
  }
 ],
 "metadata": {
  "kernelspec": {
   "display_name": "Python 3",
   "language": "python",
   "name": "python3"
  },
  "language_info": {
   "codemirror_mode": {
    "name": "ipython",
    "version": 3
   },
   "file_extension": ".py",
   "mimetype": "text/x-python",
   "name": "python",
   "nbconvert_exporter": "python",
   "pygments_lexer": "ipython3",
   "version": "3.11.4"
  }
 },
 "nbformat": 4,
 "nbformat_minor": 5
}
